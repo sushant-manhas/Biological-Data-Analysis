{
  "cells": [
    {
      "cell_type": "markdown",
      "metadata": {
        "id": "gd87p399ltqL"
      },
      "source": [
        "# Installing Dependencies"
      ]
    },
    {
      "cell_type": "code",
      "execution_count": 1,
      "metadata": {
        "id": "gNRnh6SIZtJh"
      },
      "outputs": [],
      "source": [
        "import numpy as np\n",
        "import pandas as pd\n",
        "from scipy import stats\n",
        "import matplotlib.pyplot as plt\n",
        "from sklearn.model_selection import train_test_split\n",
        "import warnings\n",
        "warnings.filterwarnings(\"ignore\")"
      ]
    },
    {
      "cell_type": "markdown",
      "metadata": {
        "id": "XY9xtsLAl3YX"
      },
      "source": [
        "# Importing Dataset Q1"
      ]
    },
    {
      "cell_type": "code",
      "execution_count": 2,
      "metadata": {
        "colab": {
          "base_uri": "https://localhost:8080/",
          "height": 261
        },
        "id": "07fKJJugaEtx",
        "outputId": "ce21cff5-2d44-4099-a8e5-dda9f0535930"
      },
      "outputs": [
        {
          "data": {
            "text/html": [
              "<div>\n",
              "<style scoped>\n",
              "    .dataframe tbody tr th:only-of-type {\n",
              "        vertical-align: middle;\n",
              "    }\n",
              "\n",
              "    .dataframe tbody tr th {\n",
              "        vertical-align: top;\n",
              "    }\n",
              "\n",
              "    .dataframe thead th {\n",
              "        text-align: right;\n",
              "    }\n",
              "</style>\n",
              "<table border=\"1\" class=\"dataframe\">\n",
              "  <thead>\n",
              "    <tr style=\"text-align: right;\">\n",
              "      <th></th>\n",
              "      <th>Unnamed: 0</th>\n",
              "      <th>Diet</th>\n",
              "      <th>Control</th>\n",
              "    </tr>\n",
              "  </thead>\n",
              "  <tbody>\n",
              "    <tr>\n",
              "      <th>0</th>\n",
              "      <td>1</td>\n",
              "      <td>13.58</td>\n",
              "      <td>12.12</td>\n",
              "    </tr>\n",
              "    <tr>\n",
              "      <th>1</th>\n",
              "      <td>2</td>\n",
              "      <td>13.84</td>\n",
              "      <td>11.19</td>\n",
              "    </tr>\n",
              "    <tr>\n",
              "      <th>2</th>\n",
              "      <td>3</td>\n",
              "      <td>14.31</td>\n",
              "      <td>10.81</td>\n",
              "    </tr>\n",
              "    <tr>\n",
              "      <th>3</th>\n",
              "      <td>4</td>\n",
              "      <td>13.08</td>\n",
              "      <td>9.63</td>\n",
              "    </tr>\n",
              "    <tr>\n",
              "      <th>4</th>\n",
              "      <td>5</td>\n",
              "      <td>12.62</td>\n",
              "      <td>12.89</td>\n",
              "    </tr>\n",
              "  </tbody>\n",
              "</table>\n",
              "</div>"
            ],
            "text/plain": [
              "   Unnamed: 0   Diet  Control\n",
              "0           1  13.58    12.12\n",
              "1           2  13.84    11.19\n",
              "2           3  14.31    10.81\n",
              "3           4  13.08     9.63\n",
              "4           5  12.62    12.89"
            ]
          },
          "execution_count": 2,
          "metadata": {},
          "output_type": "execute_result"
        }
      ],
      "source": [
        "Data1 = pd.read_excel('dataset.xlsx',sheet_name = 0, engine='openpyxl')\n",
        "Data1.head()"
      ]
    },
    {
      "cell_type": "markdown",
      "metadata": {
        "id": "gaAtyfJul7If"
      },
      "source": [
        "**Data Pre-Processing**"
      ]
    },
    {
      "cell_type": "code",
      "execution_count": 3,
      "metadata": {
        "colab": {
          "base_uri": "https://localhost:8080/",
          "height": 206
        },
        "id": "J8L6315Scy-D",
        "outputId": "60fc52f5-fa0e-4859-cd5c-6af562534819"
      },
      "outputs": [
        {
          "data": {
            "text/html": [
              "<div>\n",
              "<style scoped>\n",
              "    .dataframe tbody tr th:only-of-type {\n",
              "        vertical-align: middle;\n",
              "    }\n",
              "\n",
              "    .dataframe tbody tr th {\n",
              "        vertical-align: top;\n",
              "    }\n",
              "\n",
              "    .dataframe thead th {\n",
              "        text-align: right;\n",
              "    }\n",
              "</style>\n",
              "<table border=\"1\" class=\"dataframe\">\n",
              "  <thead>\n",
              "    <tr style=\"text-align: right;\">\n",
              "      <th></th>\n",
              "      <th>Diet</th>\n",
              "      <th>Control</th>\n",
              "    </tr>\n",
              "  </thead>\n",
              "  <tbody>\n",
              "    <tr>\n",
              "      <th>0</th>\n",
              "      <td>13.58</td>\n",
              "      <td>12.12</td>\n",
              "    </tr>\n",
              "    <tr>\n",
              "      <th>1</th>\n",
              "      <td>13.84</td>\n",
              "      <td>11.19</td>\n",
              "    </tr>\n",
              "    <tr>\n",
              "      <th>2</th>\n",
              "      <td>14.31</td>\n",
              "      <td>10.81</td>\n",
              "    </tr>\n",
              "    <tr>\n",
              "      <th>3</th>\n",
              "      <td>13.08</td>\n",
              "      <td>9.63</td>\n",
              "    </tr>\n",
              "    <tr>\n",
              "      <th>4</th>\n",
              "      <td>12.62</td>\n",
              "      <td>12.89</td>\n",
              "    </tr>\n",
              "  </tbody>\n",
              "</table>\n",
              "</div>"
            ],
            "text/plain": [
              "    Diet  Control\n",
              "0  13.58    12.12\n",
              "1  13.84    11.19\n",
              "2  14.31    10.81\n",
              "3  13.08     9.63\n",
              "4  12.62    12.89"
            ]
          },
          "execution_count": 3,
          "metadata": {},
          "output_type": "execute_result"
        }
      ],
      "source": [
        "Data1 = Data1.reset_index()\n",
        "Data1 = Data1.drop(Data1.columns[1], axis = 1)\n",
        "Data1 = Data1.drop(Data1.columns[0], axis = 1)\n",
        "Data1.head()"
      ]
    },
    {
      "cell_type": "code",
      "execution_count": 4,
      "metadata": {
        "colab": {
          "base_uri": "https://localhost:8080/"
        },
        "id": "b07RVAe0ef9P",
        "outputId": "91dbee61-ae67-49a6-d975-d13f1cbba0e8"
      },
      "outputs": [
        {
          "name": "stdout",
          "output_type": "stream",
          "text": [
            "     Diet  Control\n",
            "0   13.58    12.12\n",
            "1   13.84    11.19\n",
            "2   14.31    10.81\n",
            "3   13.08     9.63\n",
            "4   12.62    12.89\n",
            "5   13.17    10.84\n",
            "6   13.11     9.66\n",
            "7   14.16     8.93\n",
            "8   13.44    11.75\n",
            "9   12.99    11.13\n",
            "10  13.79    12.83\n",
            "11  13.91    11.90\n",
            "12  13.69     8.47\n",
            "13  14.14    11.43\n",
            "14  14.07     9.16\n",
            "15  13.39    10.58\n",
            "16  13.79     9.74\n",
            "17  13.31    10.26\n",
            "18  14.41    10.76\n",
            "19  13.40    11.56\n",
            "20  14.10    11.03\n",
            "21  13.64     9.92\n",
            "22  13.36     9.58\n",
            "23  13.68    11.00\n",
            "24  13.94    12.60\n",
            "25  13.61    12.15\n",
            "26  13.79    10.62\n",
            "27  13.59     9.43\n",
            "28  13.94    11.56\n",
            "29  14.71     9.31\n",
            "30  14.04    11.13\n",
            "31  13.60    10.83\n",
            "32  13.46     9.28\n",
            "33    NaN     8.91\n",
            "34    NaN     9.79\n",
            "35    NaN    10.13\n",
            "36    NaN    12.32\n"
          ]
        }
      ],
      "source": [
        "print(Data1)"
      ]
    },
    {
      "cell_type": "code",
      "execution_count": 5,
      "metadata": {
        "colab": {
          "base_uri": "https://localhost:8080/"
        },
        "id": "MvnxdONeflPv",
        "outputId": "f4b5df5d-5f5e-4599-e169-abc03a10af7d"
      },
      "outputs": [
        {
          "name": "stdout",
          "output_type": "stream",
          "text": [
            "     Diet  Control\n",
            "0   13.58    12.12\n",
            "1   13.84    11.19\n",
            "2   14.31    10.81\n",
            "3   13.08     9.63\n",
            "4   12.62    12.89\n",
            "5   13.17    10.84\n",
            "6   13.11     9.66\n",
            "7   14.16     8.93\n",
            "8   13.44    11.75\n",
            "9   12.99    11.13\n",
            "10  13.79    12.83\n",
            "11  13.91    11.90\n",
            "12  13.69     8.47\n",
            "13  14.14    11.43\n",
            "14  14.07     9.16\n",
            "15  13.39    10.58\n",
            "16  13.79     9.74\n",
            "17  13.31    10.26\n",
            "18  14.41    10.76\n",
            "19  13.40    11.56\n",
            "20  14.10    11.03\n",
            "21  13.64     9.92\n",
            "22  13.36     9.58\n",
            "23  13.68    11.00\n",
            "24  13.94    12.60\n",
            "25  13.61    12.15\n",
            "26  13.79    10.62\n",
            "27  13.59     9.43\n",
            "28  13.94    11.56\n",
            "29  14.71     9.31\n",
            "30  14.04    11.13\n",
            "31  13.60    10.83\n",
            "32  13.46     9.28\n",
            "33  13.46     8.91\n",
            "34  13.46     9.79\n",
            "35  13.46    10.13\n",
            "36  13.46    12.32\n"
          ]
        }
      ],
      "source": [
        "Data1['Diet'] = Data1['Diet'].interpolate()\n",
        "print(Data1)"
      ]
    },
    {
      "cell_type": "markdown",
      "metadata": {
        "id": "J-eCip-_mFtA"
      },
      "source": [
        "**Statistical Test**"
      ]
    },
    {
      "cell_type": "code",
      "execution_count": 6,
      "metadata": {
        "colab": {
          "base_uri": "https://localhost:8080/"
        },
        "id": "xcudEB0ZgbY_",
        "outputId": "9ece0155-49f9-46ff-a362-82129979115a"
      },
      "outputs": [
        {
          "name": "stdout",
          "output_type": "stream",
          "text": [
            "The diet group has a significantly higher value than the control group.\n"
          ]
        }
      ],
      "source": [
        "control_group = Data1['Control']\n",
        "diet_group = Data1['Diet']\n",
        "t_statistic, p_value = stats.ttest_ind(control_group, diet_group)\n",
        "\n",
        "alpha = 0.05  # Significance level\n",
        "\n",
        "if p_value < alpha:\n",
        "    print(\"The diet group has a significantly higher value than the control group.\")\n",
        "else:\n",
        "    print(\"There is no significant difference between the diet and control groups.\")"
      ]
    },
    {
      "cell_type": "markdown",
      "metadata": {
        "id": "i7JLAetYmKgZ"
      },
      "source": [
        "**Pictorial Representation**"
      ]
    },
    {
      "cell_type": "code",
      "execution_count": 7,
      "metadata": {
        "colab": {
          "base_uri": "https://localhost:8080/",
          "height": 907
        },
        "id": "Y2V0mMfPkw0j",
        "outputId": "17978386-8222-4c4b-d566-d4e5504bdb4f"
      },
      "outputs": [
        {
          "data": {
            "image/png": "[encoded data removed]",
            "text/plain": [
              "<Figure size 640x480 with 1 Axes>"
            ]
          },
          "metadata": {},
          "output_type": "display_data"
        },
        {
          "data": {
            "image/png": "[encoded data removed]",
            "text/plain": [
              "<Figure size 640x480 with 1 Axes>"
            ]
          },
          "metadata": {},
          "output_type": "display_data"
        }
      ],
      "source": [
        "# Bar plot\n",
        "plt.bar(['Diet', 'Control'], [Data1['Diet'].mean(), Data1['Control'].mean()])\n",
        "plt.xlabel('Group')\n",
        "plt.ylabel('Average Value')\n",
        "plt.title('Comparison of Diet and Control Groups')\n",
        "plt.show()\n",
        "\n",
        "# Box plot\n",
        "Data1.plot(kind='box')\n",
        "plt.ylabel('Value')\n",
        "plt.title('Comparison of Diet and Control Groups')\n",
        "plt.show()"
      ]
    },
    {
      "cell_type": "markdown",
      "metadata": {
        "id": "dIJCgcVSm6BN"
      },
      "source": [
        "# Importing Dataset Q2"
      ]
    },
    {
      "cell_type": "code",
      "execution_count": 8,
      "metadata": {
        "colab": {
          "base_uri": "https://localhost:8080/",
          "height": 261
        },
        "id": "y75k2NHlm5tD",
        "outputId": "fef29b2b-48f5-45a6-cf6d-8264bc4450ea"
      },
      "outputs": [
        {
          "data": {
            "text/html": [
              "<div>\n",
              "<style scoped>\n",
              "    .dataframe tbody tr th:only-of-type {\n",
              "        vertical-align: middle;\n",
              "    }\n",
              "\n",
              "    .dataframe tbody tr th {\n",
              "        vertical-align: top;\n",
              "    }\n",
              "\n",
              "    .dataframe thead th {\n",
              "        text-align: right;\n",
              "    }\n",
              "</style>\n",
              "<table border=\"1\" class=\"dataframe\">\n",
              "  <thead>\n",
              "    <tr style=\"text-align: right;\">\n",
              "      <th></th>\n",
              "      <th>Unnamed: 0</th>\n",
              "      <th>S01</th>\n",
              "      <th>S02</th>\n",
              "      <th>S03</th>\n",
              "      <th>S04</th>\n",
              "      <th>S05</th>\n",
              "      <th>S06</th>\n",
              "      <th>S07</th>\n",
              "      <th>S08</th>\n",
              "      <th>S09</th>\n",
              "    </tr>\n",
              "  </thead>\n",
              "  <tbody>\n",
              "    <tr>\n",
              "      <th>0</th>\n",
              "      <td>1</td>\n",
              "      <td>772</td>\n",
              "      <td>1071</td>\n",
              "      <td>1118</td>\n",
              "      <td>967</td>\n",
              "      <td>1075</td>\n",
              "      <td>1145</td>\n",
              "      <td>866</td>\n",
              "      <td>1025</td>\n",
              "      <td>1186</td>\n",
              "    </tr>\n",
              "    <tr>\n",
              "      <th>1</th>\n",
              "      <td>2</td>\n",
              "      <td>755</td>\n",
              "      <td>1154</td>\n",
              "      <td>1233</td>\n",
              "      <td>730</td>\n",
              "      <td>1074</td>\n",
              "      <td>1214</td>\n",
              "      <td>786</td>\n",
              "      <td>1155</td>\n",
              "      <td>1140</td>\n",
              "    </tr>\n",
              "    <tr>\n",
              "      <th>2</th>\n",
              "      <td>3</td>\n",
              "      <td>934</td>\n",
              "      <td>1082</td>\n",
              "      <td>1178</td>\n",
              "      <td>982</td>\n",
              "      <td>1028</td>\n",
              "      <td>1102</td>\n",
              "      <td>777</td>\n",
              "      <td>1089</td>\n",
              "      <td>1248</td>\n",
              "    </tr>\n",
              "    <tr>\n",
              "      <th>3</th>\n",
              "      <td>4</td>\n",
              "      <td>681</td>\n",
              "      <td>927</td>\n",
              "      <td>1230</td>\n",
              "      <td>825</td>\n",
              "      <td>906</td>\n",
              "      <td>1242</td>\n",
              "      <td>880</td>\n",
              "      <td>1046</td>\n",
              "      <td>1143</td>\n",
              "    </tr>\n",
              "    <tr>\n",
              "      <th>4</th>\n",
              "      <td>5</td>\n",
              "      <td>1001</td>\n",
              "      <td>992</td>\n",
              "      <td>1117</td>\n",
              "      <td>821</td>\n",
              "      <td>1049</td>\n",
              "      <td>1313</td>\n",
              "      <td>864</td>\n",
              "      <td>909</td>\n",
              "      <td>958</td>\n",
              "    </tr>\n",
              "  </tbody>\n",
              "</table>\n",
              "</div>"
            ],
            "text/plain": [
              "   Unnamed: 0   S01   S02   S03  S04   S05   S06  S07   S08   S09\n",
              "0           1   772  1071  1118  967  1075  1145  866  1025  1186\n",
              "1           2   755  1154  1233  730  1074  1214  786  1155  1140\n",
              "2           3   934  1082  1178  982  1028  1102  777  1089  1248\n",
              "3           4   681   927  1230  825   906  1242  880  1046  1143\n",
              "4           5  1001   992  1117  821  1049  1313  864   909   958"
            ]
          },
          "execution_count": 8,
          "metadata": {},
          "output_type": "execute_result"
        }
      ],
      "source": [
        "Data2 = pd.read_excel('dataset.xlsx',sheet_name = 1, engine='openpyxl')\n",
        "Data2.head()"
      ]
    },
    {
      "cell_type": "code",
      "execution_count": 9,
      "metadata": {
        "colab": {
          "base_uri": "https://localhost:8080/"
        },
        "id": "aoEiRiV4nEME",
        "outputId": "a5c042fa-1683-474e-c154-e27d3853d054"
      },
      "outputs": [
        {
          "name": "stdout",
          "output_type": "stream",
          "text": [
            "     S01   S02   S03  S04   S05   S06   S07   S08   S09\n",
            "0    772  1071  1118  967  1075  1145   866  1025  1186\n",
            "1    755  1154  1233  730  1074  1214   786  1155  1140\n",
            "2    934  1082  1178  982  1028  1102   777  1089  1248\n",
            "3    681   927  1230  825   906  1242   880  1046  1143\n",
            "4   1001   992  1117  821  1049  1313   864   909   958\n",
            "5    650  1060  1269  867   840  1126   674  1338   995\n",
            "6    748  1137  1118  947   941  1379   836  1058  1130\n",
            "7    833   996  1221  950   984  1166   765   950  1002\n",
            "8    721  1060  1385  702  1173  1352   880  1048  1197\n",
            "9    827   980  1267  757  1066  1256   671  1017  1432\n",
            "10   763  1165  1225  674   987  1413   881   999  1349\n",
            "11   860  1042  1134  677   898  1100  1053  1105  1263\n",
            "12   848   841  1284  892   986  1117   832  1156  1164\n",
            "13   841  1024  1147  719  1004  1128   719  1058  1321\n",
            "14   634   884  1108  734   942  1180   896   956  1200\n"
          ]
        }
      ],
      "source": [
        "Data2 = Data2.reset_index()\n",
        "Data2 = Data2.drop(Data2.columns[1], axis = 1)\n",
        "Data2 = Data2.drop(Data2.columns[0], axis = 1)\n",
        "print(Data2)"
      ]
    },
    {
      "cell_type": "markdown",
      "metadata": {
        "id": "kJSBqg4UptZG"
      },
      "source": [
        "**Changing Column names for better Grasp**"
      ]
    },
    {
      "cell_type": "code",
      "execution_count": 10,
      "metadata": {
        "colab": {
          "base_uri": "https://localhost:8080/",
          "height": 206
        },
        "id": "oZfkdIwLpyDo",
        "outputId": "ca317309-8713-49e9-8554-112d44519232"
      },
      "outputs": [
        {
          "data": {
            "text/html": [
              "<div>\n",
              "<style scoped>\n",
              "    .dataframe tbody tr th:only-of-type {\n",
              "        vertical-align: middle;\n",
              "    }\n",
              "\n",
              "    .dataframe tbody tr th {\n",
              "        vertical-align: top;\n",
              "    }\n",
              "\n",
              "    .dataframe thead th {\n",
              "        text-align: right;\n",
              "    }\n",
              "</style>\n",
              "<table border=\"1\" class=\"dataframe\">\n",
              "  <thead>\n",
              "    <tr style=\"text-align: right;\">\n",
              "      <th></th>\n",
              "      <th>Drug1Dose1</th>\n",
              "      <th>Drug2Dose1</th>\n",
              "      <th>Drug3Dose1</th>\n",
              "      <th>Drug1Dose2</th>\n",
              "      <th>Drug2Dose2</th>\n",
              "      <th>Drug3Dose2</th>\n",
              "      <th>Drug1Dose3</th>\n",
              "      <th>Drug2Dose3</th>\n",
              "      <th>Drug3Dose3</th>\n",
              "    </tr>\n",
              "  </thead>\n",
              "  <tbody>\n",
              "    <tr>\n",
              "      <th>0</th>\n",
              "      <td>772</td>\n",
              "      <td>1071</td>\n",
              "      <td>1118</td>\n",
              "      <td>967</td>\n",
              "      <td>1075</td>\n",
              "      <td>1145</td>\n",
              "      <td>866</td>\n",
              "      <td>1025</td>\n",
              "      <td>1186</td>\n",
              "    </tr>\n",
              "    <tr>\n",
              "      <th>1</th>\n",
              "      <td>755</td>\n",
              "      <td>1154</td>\n",
              "      <td>1233</td>\n",
              "      <td>730</td>\n",
              "      <td>1074</td>\n",
              "      <td>1214</td>\n",
              "      <td>786</td>\n",
              "      <td>1155</td>\n",
              "      <td>1140</td>\n",
              "    </tr>\n",
              "    <tr>\n",
              "      <th>2</th>\n",
              "      <td>934</td>\n",
              "      <td>1082</td>\n",
              "      <td>1178</td>\n",
              "      <td>982</td>\n",
              "      <td>1028</td>\n",
              "      <td>1102</td>\n",
              "      <td>777</td>\n",
              "      <td>1089</td>\n",
              "      <td>1248</td>\n",
              "    </tr>\n",
              "    <tr>\n",
              "      <th>3</th>\n",
              "      <td>681</td>\n",
              "      <td>927</td>\n",
              "      <td>1230</td>\n",
              "      <td>825</td>\n",
              "      <td>906</td>\n",
              "      <td>1242</td>\n",
              "      <td>880</td>\n",
              "      <td>1046</td>\n",
              "      <td>1143</td>\n",
              "    </tr>\n",
              "    <tr>\n",
              "      <th>4</th>\n",
              "      <td>1001</td>\n",
              "      <td>992</td>\n",
              "      <td>1117</td>\n",
              "      <td>821</td>\n",
              "      <td>1049</td>\n",
              "      <td>1313</td>\n",
              "      <td>864</td>\n",
              "      <td>909</td>\n",
              "      <td>958</td>\n",
              "    </tr>\n",
              "  </tbody>\n",
              "</table>\n",
              "</div>"
            ],
            "text/plain": [
              "   Drug1Dose1  Drug2Dose1  Drug3Dose1  Drug1Dose2  Drug2Dose2  Drug3Dose2   \n",
              "0         772        1071        1118         967        1075        1145  \\\n",
              "1         755        1154        1233         730        1074        1214   \n",
              "2         934        1082        1178         982        1028        1102   \n",
              "3         681         927        1230         825         906        1242   \n",
              "4        1001         992        1117         821        1049        1313   \n",
              "\n",
              "   Drug1Dose3  Drug2Dose3  Drug3Dose3  \n",
              "0         866        1025        1186  \n",
              "1         786        1155        1140  \n",
              "2         777        1089        1248  \n",
              "3         880        1046        1143  \n",
              "4         864         909         958  "
            ]
          },
          "execution_count": 10,
          "metadata": {},
          "output_type": "execute_result"
        }
      ],
      "source": [
        "Data2 = Data2.rename(columns={'S01': 'Drug1Dose1', 'S02': 'Drug2Dose1','S03': 'Drug3Dose1', 'S04': 'Drug1Dose2','S05': 'Drug2Dose2', 'S06': 'Drug3Dose2','S07': 'Drug1Dose3', 'S08': 'Drug2Dose3','S09': 'Drug3Dose3'})\n",
        "Data2.head()"
      ]
    },
    {
      "cell_type": "markdown",
      "metadata": {
        "id": "i0cMW3SmqVam"
      },
      "source": [
        "**Statistical Test**"
      ]
    },
    {
      "cell_type": "code",
      "execution_count": 11,
      "metadata": {
        "colab": {
          "base_uri": "https://localhost:8080/"
        },
        "id": "t4yr7BCTqXgw",
        "outputId": "b2c621d8-0fe3-45d2-cd4a-cf56e323cbb1"
      },
      "outputs": [
        {
          "name": "stdout",
          "output_type": "stream",
          "text": [
            "There is a significant difference between the drug dosage groups.\n",
            "The best drug and dosage for decreasing the value is Drug1 at Dose1.\n"
          ]
        }
      ],
      "source": [
        "column_name = 'Drug1Dose1'\n",
        "\n",
        "# Extract the drug and dosage frequency from the column name\n",
        "drug = column_name[:-6]\n",
        "dosage = column_name[-6:]\n",
        "\n",
        "# Extract the values for each group based on the drug and dosage\n",
        "groups = [Data2[column_name.replace(drug, f'Drug{i+1}').replace(dosage, f'Dose{j+1}')] \n",
        "          for i in range(3) for j in range(3)]\n",
        "\n",
        "# Perform the ANOVA test\n",
        "f_value, p_value = stats.f_oneway(*groups)\n",
        "\n",
        "# Interpret the result\n",
        "alpha = 0.05  # Significance level\n",
        "\n",
        "if p_value < alpha:\n",
        "    print(\"There is a significant difference between the drug dosage groups.\")\n",
        "    best_group_index = np.argmin(p_value)\n",
        "    best_group = groups[best_group_index]\n",
        "    best_drug_dosage = Data2.columns[best_group_index]\n",
        "    best_drug = best_drug_dosage.split('Dose')[0]\n",
        "    best_dosage = best_drug_dosage.split('Dose')[1]\n",
        "    print(f\"The best drug and dosage for decreasing the value is {best_drug} at Dose{best_dosage}.\")\n",
        "else:\n",
        "    print(\"There is no significant difference between the drug dosage groups.\")"
      ]
    },
    {
      "cell_type": "markdown",
      "metadata": {
        "id": "2rRti_Z5xnMj"
      },
      "source": [
        "**Plotting the Difference**"
      ]
    },
    {
      "cell_type": "code",
      "execution_count": 12,
      "metadata": {
        "colab": {
          "base_uri": "https://localhost:8080/",
          "height": 641
        },
        "id": "Ajg-fBplxp9A",
        "outputId": "f0e13b69-8a22-470d-b232-7c664dbfd433"
      },
      "outputs": [
        {
          "data": {
            "image/png": "[encoded data removed]",
            "text/plain": [
              "<Figure size 1200x700 with 1 Axes>"
            ]
          },
          "metadata": {},
          "output_type": "display_data"
        }
      ],
      "source": [
        "plt.figure(figsize=(12, 7))\n",
        "plt.boxplot(groups, labels=[f\"Drug{i+1} Dose{j+1}\" for i in range(3) for j in range(3)])\n",
        "plt.xlabel(\"Drug and Dosage\")\n",
        "plt.ylabel(\"Effect Value\")\n",
        "plt.title(\"Difference in Effect Values between Drug Dosage Groups\")\n",
        "plt.show()"
      ]
    },
    {
      "cell_type": "markdown",
      "metadata": {
        "id": "_7Gcx2y8yOjU"
      },
      "source": [
        "# Importing Dataset Q3"
      ]
    },
    {
      "cell_type": "code",
      "execution_count": 13,
      "metadata": {
        "colab": {
          "base_uri": "https://localhost:8080/",
          "height": 261
        },
        "id": "Yuhj0kJZyNz-",
        "outputId": "3dbb2f2e-1671-445a-c18e-7cd8c024f760"
      },
      "outputs": [
        {
          "data": {
            "text/html": [
              "<div>\n",
              "<style scoped>\n",
              "    .dataframe tbody tr th:only-of-type {\n",
              "        vertical-align: middle;\n",
              "    }\n",
              "\n",
              "    .dataframe tbody tr th {\n",
              "        vertical-align: top;\n",
              "    }\n",
              "\n",
              "    .dataframe thead th {\n",
              "        text-align: right;\n",
              "    }\n",
              "</style>\n",
              "<table border=\"1\" class=\"dataframe\">\n",
              "  <thead>\n",
              "    <tr style=\"text-align: right;\">\n",
              "      <th></th>\n",
              "      <th>Unnamed: 0</th>\n",
              "      <th>C_level</th>\n",
              "      <th>T_cell</th>\n",
              "    </tr>\n",
              "  </thead>\n",
              "  <tbody>\n",
              "    <tr>\n",
              "      <th>0</th>\n",
              "      <td>1</td>\n",
              "      <td>1314.8</td>\n",
              "      <td>1993</td>\n",
              "    </tr>\n",
              "    <tr>\n",
              "      <th>1</th>\n",
              "      <td>2</td>\n",
              "      <td>1579.2</td>\n",
              "      <td>2095</td>\n",
              "    </tr>\n",
              "    <tr>\n",
              "      <th>2</th>\n",
              "      <td>3</td>\n",
              "      <td>1204.4</td>\n",
              "      <td>1909</td>\n",
              "    </tr>\n",
              "    <tr>\n",
              "      <th>3</th>\n",
              "      <td>4</td>\n",
              "      <td>1813.2</td>\n",
              "      <td>2173</td>\n",
              "    </tr>\n",
              "    <tr>\n",
              "      <th>4</th>\n",
              "      <td>5</td>\n",
              "      <td>1057.6</td>\n",
              "      <td>1818</td>\n",
              "    </tr>\n",
              "  </tbody>\n",
              "</table>\n",
              "</div>"
            ],
            "text/plain": [
              "   Unnamed: 0  C_level  T_cell\n",
              "0           1   1314.8    1993\n",
              "1           2   1579.2    2095\n",
              "2           3   1204.4    1909\n",
              "3           4   1813.2    2173\n",
              "4           5   1057.6    1818"
            ]
          },
          "execution_count": 13,
          "metadata": {},
          "output_type": "execute_result"
        }
      ],
      "source": [
        "Data3 = pd.read_excel('dataset.xlsx',sheet_name = 2, engine='openpyxl')\n",
        "Data3.head()"
      ]
    },
    {
      "cell_type": "code",
      "execution_count": 14,
      "metadata": {
        "colab": {
          "base_uri": "https://localhost:8080/"
        },
        "id": "vLORyoCWykO8",
        "outputId": "714989ed-ceb5-47b0-ed65-e621e0a83547"
      },
      "outputs": [
        {
          "name": "stdout",
          "output_type": "stream",
          "text": [
            "    C_level  T_cell\n",
            "0    1314.8    1993\n",
            "1    1579.2    2095\n",
            "2    1204.4    1909\n",
            "3    1813.2    2173\n",
            "4    1057.6    1818\n",
            "..      ...     ...\n",
            "95   1122.1    1960\n",
            "96   1296.1    1963\n",
            "97   1738.2    2173\n",
            "98   1641.8    2246\n",
            "99   1286.0    1802\n",
            "\n",
            "[100 rows x 2 columns]\n"
          ]
        }
      ],
      "source": [
        "Data3 = Data3.reset_index()\n",
        "Data3 = Data3.drop(Data3.columns[1], axis = 1)\n",
        "Data3 = Data3.drop(Data3.columns[0], axis = 1)\n",
        "print(Data3)"
      ]
    },
    {
      "cell_type": "markdown",
      "metadata": {
        "id": "cXqYLTG901Nf"
      },
      "source": [
        "**Statistical Test**"
      ]
    },
    {
      "cell_type": "code",
      "execution_count": 15,
      "metadata": {
        "colab": {
          "base_uri": "https://localhost:8080/"
        },
        "id": "YENnG0DQ03bw",
        "outputId": "d155307a-6e34-40fa-e9d5-232e129aa1be"
      },
      "outputs": [
        {
          "name": "stdout",
          "output_type": "stream",
          "text": [
            "There is a significant correlation between Column1 and Column2.\n",
            "Pearson correlation coefficient: 0.94\n"
          ]
        }
      ],
      "source": [
        "x = Data3['C_level']\n",
        "y = Data3['T_cell']\n",
        "\n",
        "# Perform the Pearson correlation test\n",
        "corr_coef, p_value = stats.pearsonr(x, y)\n",
        "\n",
        "# Interpret the result\n",
        "alpha = 0.05  # Significance level\n",
        "\n",
        "if p_value < alpha:\n",
        "    print(\"There is a significant correlation between Column1 and Column2.\")\n",
        "    print(f\"Pearson correlation coefficient: {corr_coef:.2f}\")\n",
        "else:\n",
        "    print(\"There is no significant correlation between Column1 and Column2.\")"
      ]
    },
    {
      "cell_type": "markdown",
      "metadata": {
        "id": "ad3y_DTL1zCW"
      },
      "source": [
        "**Plotting the Regression Line**"
      ]
    },
    {
      "cell_type": "code",
      "execution_count": 16,
      "metadata": {
        "colab": {
          "base_uri": "https://localhost:8080/",
          "height": 472
        },
        "id": "TXIyvD0n1NXK",
        "outputId": "9fb83fdc-84b5-4b1a-99b2-2e2b1e7ad60c"
      },
      "outputs": [
        {
          "data": {
            "image/png": "[encoded data removed]",
            "text/plain": [
              "<Figure size 640x480 with 1 Axes>"
            ]
          },
          "metadata": {},
          "output_type": "display_data"
        }
      ],
      "source": [
        "# Calculate the regression line\n",
        "regression_line = np.polyfit(x, y, 1)\n",
        "line = regression_line[0] * x + regression_line[1]\n",
        "\n",
        "# Create a scatter plot with the regression line\n",
        "plt.scatter(x, y)\n",
        "plt.plot(x, line, color='red', label='Regression Line')\n",
        "plt.xlabel('Vitamin C')\n",
        "plt.ylabel('T_cells')\n",
        "plt.title('Scatter Plot with Regression Line')\n",
        "plt.legend()\n",
        "plt.show()"
      ]
    }
  ],
  "metadata": {
    "colab": {
      "provenance": []
    },
    "kernelspec": {
      "display_name": "Python 3",
      "name": "python3"
    },
    "language_info": {
      "codemirror_mode": {
        "name": "ipython",
        "version": 3
      },
      "file_extension": ".py",
      "mimetype": "text/x-python",
      "name": "python",
      "nbconvert_exporter": "python",
      "pygments_lexer": "ipython3",
      "version": "3.10.11"
    }
  },
  "nbformat": 4,
  "nbformat_minor": 0
}
